{
 "cells": [
  {
   "cell_type": "markdown",
   "id": "d3f91ab1-c591-42b2-8ccc-47e5d395f058",
   "metadata": {
    "tags": []
   },
   "source": [
    "Ejemplo 3 Area de un Trapecio\n",
    "Un trapecio es un cuadrilátero con dos lados paralelos. Por ejemplo:\n",
    "El área del trapecio se calcula de acuerdo con la fórmula indicada arriba.\n",
    "Imagina un trapecio con lados de longitud 5 y 10 cm y una altura de 6 cm. Asigna estos\n",
    "valores a variables y empléalas para calcular e imprimir el área del trapecio en cm 2 ."
   ]
  },
  {
   "cell_type": "code",
   "execution_count": 3,
   "id": "6d96a25c-b9b6-496b-9f44-6b8f83b6fbb6",
   "metadata": {
    "tags": []
   },
   "outputs": [
    {
     "name": "stdout",
     "output_type": "stream",
     "text": [
      "El área del trapecio es de 45.0 cm2\n"
     ]
    }
   ],
   "source": [
    "h = 6\n",
    "a = 5\n",
    "b = 10\n",
    "\n",
    "A = h * (a + b) / 2\n",
    "print(\"El área del trapecio es de\", A ,\"cm2\")"
   ]
  },
  {
   "cell_type": "markdown",
   "id": "b00b8780-5276-4d9e-913c-7a26027ee10b",
   "metadata": {},
   "source": [
    "Ejemplo 4\n",
    "Parte 1\n",
    "La ecuación que relaciona temperaturas en grados Fahrenheit (Tf ) y en grados Celsius (Tc ) es:\n",
    "\n",
    "Crea una variable Tc con un valor de 28ºC y calcula la temperatura en grados Fahrenheit.\n",
    "Finalmente, imprime el siguiente mensaje:\n",
    "28 grados Celsius equivalen a X grados Fahrenheit.\n",
    "siendo X el resultado del cálculo realizado."
   ]
  },
  {
   "cell_type": "code",
   "execution_count": 8,
   "id": "9585a6aa-325f-4c3b-8d70-1d0fcffd8b9c",
   "metadata": {
    "tags": []
   },
   "outputs": [
    {
     "name": "stdout",
     "output_type": "stream",
     "text": [
      "la esfera de diámetro 3 cm. tiene un área de 28.27 cm2 y un volumen de 14.14 cm3\n"
     ]
    }
   ],
   "source": [
    "import math\n",
    "\n",
    "d = 3\n",
    "r = d / 2\n",
    "pi = math.pi\n",
    "A = round(4 * pi * r ** 2, 2)\n",
    "V = round((4 / 3) * pi * r ** 3, 2)\n",
    "print(\"la esfera de diámetro\", d, \"cm. tiene un área de\", A, \"cm2 y un volumen de\", V, \"cm3\") "
   ]
  },
  {
   "cell_type": "code",
   "execution_count": 7,
   "id": "5866a922-7dcb-42e1-b521-a8217aa9d691",
   "metadata": {
    "tags": []
   },
   "outputs": [
    {
     "data": {
      "text/plain": [
       "3.141592653589793"
      ]
     },
     "execution_count": 7,
     "metadata": {},
     "output_type": "execute_result"
    }
   ],
   "source": [
    "math.pi"
   ]
  },
  {
   "cell_type": "markdown",
   "id": "da840233-7b69-4b2f-ba7f-dbd332a19836",
   "metadata": {},
   "source": []
  }
 ],
 "metadata": {
  "kernelspec": {
   "display_name": "Python 3 (ipykernel)",
   "language": "python",
   "name": "python3"
  },
  "language_info": {
   "codemirror_mode": {
    "name": "ipython",
    "version": 3
   },
   "file_extension": ".py",
   "mimetype": "text/x-python",
   "name": "python",
   "nbconvert_exporter": "python",
   "pygments_lexer": "ipython3",
   "version": "3.10.12"
  }
 },
 "nbformat": 4,
 "nbformat_minor": 5
}
